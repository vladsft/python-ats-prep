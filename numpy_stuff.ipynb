{
 "cells": [
  {
   "cell_type": "markdown",
   "source": [
    "**Task**: Create and manipulate NumPy arrays.\n",
    "\n",
    "- Create a 1D array of integers from 0 to 9.\n",
    "- Create a 2D array of shape (3, 3) filled with ones.\n",
    "- Create a 3x3 identity matrix.\n",
    "- Create a 1D array of 10 evenly spaced values between 0 and 1."
   ],
   "metadata": {
    "collapsed": false
   },
   "id": "ae2402afa1994ae4"
  },
  {
   "cell_type": "code",
   "execution_count": 4,
   "id": "initial_id",
   "metadata": {
    "collapsed": true,
    "ExecuteTime": {
     "end_time": "2025-02-16T15:28:36.944489Z",
     "start_time": "2025-02-16T15:28:36.937968Z"
    }
   },
   "outputs": [
    {
     "name": "stdout",
     "output_type": "stream",
     "text": [
      "[0 1 2 3 4 5 6 7 8 9]\n",
      "[[1. 1. 1.]\n",
      " [1. 1. 1.]\n",
      " [1. 1. 1.]]\n",
      "[[1 0 0]\n",
      " [0 1 0]\n",
      " [0 0 1]]\n",
      "[[1. 0. 0.]\n",
      " [0. 1. 0.]\n",
      " [0. 0. 1.]]\n",
      "[0.   0.11 0.22 0.33 0.44 0.56 0.67 0.78 0.89 1.  ]\n"
     ]
    }
   ],
   "source": [
    "import numpy as np\n",
    "\n",
    "zero_to_nine = np.arange(0,10)\n",
    "three_on_three = np.ones((3,3), dtype=float)\n",
    "identity_matrix = np.zeros((3,3), dtype=int)\n",
    "for i in range(identity_matrix.shape[0]):\n",
    "  identity_matrix[i][i] = 1\n",
    "identity_matrix_sexy = np.eye(3)\n",
    "evenly_spaces = np.linspace(0, 1, 10)\n",
    "evenly_spaces = np.round(evenly_spaces, 2)\n",
    "print(zero_to_nine)\n",
    "print(three_on_three)\n",
    "print(identity_matrix)\n",
    "print(identity_matrix_sexy)\n",
    "print(evenly_spaces)"
   ]
  },
  {
   "cell_type": "markdown",
   "source": [
    "**Task**: Explore array properties and perform basic manipulations.\n",
    "\n",
    "- Create a 2D array of shape (4, 5) with random integers between 1 and 10.\n",
    "- Find the shape, size, and data type of the array.\n",
    "- Reshape the array to shape (5, 4).\n",
    "- Transpose the reshaped array."
   ],
   "metadata": {
    "collapsed": false
   },
   "id": "991812b3a6128151"
  },
  {
   "cell_type": "code",
   "outputs": [
    {
     "name": "stdout",
     "output_type": "stream",
     "text": [
      "(4, 5)\n",
      "20\n",
      "int32\n",
      "[[ 6  5  8  3]\n",
      " [ 3  6  8  4]\n",
      " [ 6  7  6 10]\n",
      " [ 8  3  5  5]\n",
      " [ 8  7  2  7]]\n",
      "[[ 6  3  6  8  8]\n",
      " [ 5  6  7  3  7]\n",
      " [ 8  8  6  5  2]\n",
      " [ 3  4 10  5  7]]\n"
     ]
    }
   ],
   "source": [
    "import random as rnd\n",
    "\n",
    "random_array = np.random.randint(1, 11, size=(4,5))\n",
    "print(random_array.shape)\n",
    "print(random_array.size)\n",
    "print(random_array.dtype)\n",
    "# print(random_array)\n",
    "random_array = random_array.reshape((5,4))\n",
    "print(random_array)\n",
    "random_array = random_array.transpose()\n",
    "print(random_array)"
   ],
   "metadata": {
    "collapsed": false,
    "ExecuteTime": {
     "end_time": "2025-02-16T15:40:25.598061Z",
     "start_time": "2025-02-16T15:40:25.592544Z"
    }
   },
   "id": "bed6cff40812d600",
   "execution_count": 14
  },
  {
   "cell_type": "markdown",
   "source": [
    "**Task**: Perform element-wise operations and aggregate functions.\n",
    "\n",
    "- Create two 1D arrays of length 5 with random integers between 1 and 10.\n",
    "- Perform element-wise addition, subtraction, multiplication, and division.\n",
    "- Calculate the dot product of the two arrays.\n",
    "- Find the sum, mean, and standard deviation of the first array."
   ],
   "metadata": {
    "collapsed": false
   },
   "id": "5f769655f43060b3"
  },
  {
   "cell_type": "code",
   "outputs": [
    {
     "name": "stdout",
     "output_type": "stream",
     "text": [
      "First array:  [1 8 7 4 6]\n",
      "Second array:  [7 4 4 2 7]\n",
      "Element-wise Addition:  [ 8 12 11  6 13]\n",
      "Element-wise Subtraction:  [-6  4  3  2 -1]\n",
      "Element-wise Multiplication:  [ 7 32 28  8 42]\n",
      "Element-wise Division:  [0.14285714 2.         1.75       2.         0.85714286]\n",
      "Dot Product 117\n",
      "Sum  26\n",
      "Mean  5.2\n",
      "Std  2.4819347291981715\n"
     ]
    }
   ],
   "source": [
    "first_array = np.random.randint(10, size=5)\n",
    "second_array = np.random.randint(10, size=5)\n",
    "print(\"First array: \", first_array)\n",
    "print(\"Second array: \", second_array)\n",
    "print(\"Element-wise Addition: \", np.add(first_array, second_array))\n",
    "print(\"Element-wise Subtraction: \", np.subtract(first_array, second_array))\n",
    "print(\"Element-wise Multiplication: \", np.multiply(first_array, second_array))\n",
    "print(\"Element-wise Division: \", np.divide(first_array, second_array, where=second_array != 0))\n",
    "print(\"Dot Product\", np.dot(first_array, second_array))\n",
    "print(\"Sum \", np.sum(first_array))\n",
    "print(\"Mean \", np.mean(first_array))\n",
    "print(\"Std \", np.std(first_array))"
   ],
   "metadata": {
    "collapsed": false,
    "ExecuteTime": {
     "end_time": "2025-02-16T16:31:39.071358Z",
     "start_time": "2025-02-16T16:31:39.065342Z"
    }
   },
   "id": "1e18b274ce9afa39",
   "execution_count": 23
  },
  {
   "cell_type": "markdown",
   "source": [
    "**Task**: Perform linear algebra operations on matrices.\n",
    "\n",
    "- Create a 2x2 matrix with random integers between 1 and 5.\n",
    "- Calculate the inverse of the matrix.\n",
    "- Compute the determinant of the matrix.\n",
    "- Find the eigenvalues and eigenvectors of the matrix."
   ],
   "metadata": {
    "collapsed": false
   },
   "id": "e28fce232420075f"
  },
  {
   "cell_type": "code",
   "outputs": [],
   "source": [
    "matrix = np.random.randint(1, 6, size=(2, 2))\n",
    "print(\"Matrix:\\n\", matrix)\n",
    "\n",
    "# Calculate the inverse of the matrix\n",
    "try:\n",
    "    matrix_inverse = np.linalg.inv(matrix)\n",
    "    print(\"Inverse of the matrix:\\n\", matrix_inverse)\n",
    "except np.linalg.LinAlgError:\n",
    "    print(\"Matrix is singular and cannot be inverted.\")\n",
    "\n",
    "# Compute the determinant of the matrix\n",
    "matrix_determinant = np.linalg.det(matrix)\n",
    "print(\"Determinant of the matrix:\", matrix_determinant)\n",
    "\n",
    "# Find the eigenvalues and eigenvectors of the matrix\n",
    "eigenvalues, eigenvectors = np.linalg.eig(matrix)\n",
    "print(\"Eigenvalues of the matrix:\", eigenvalues)\n",
    "print(\"Eigenvectors of the matrix:\\n\", eigenvectors)"
   ],
   "metadata": {
    "collapsed": false
   },
   "id": "48ab37a6d34c9f2"
  },
  {
   "cell_type": "markdown",
   "source": [
    "**Task**: Practice indexing, slicing, and broadcasting.\n",
    "\n",
    "- Create a 1D array of integers from 0 to 19.\n",
    "- Extract the subarray containing elements from index 5 to 10.\n",
    "- Use boolean indexing to select elements greater than 10.\n",
    "- Create a 2D array of shape (3, 3) and add a 1D array of length 3 to each row using broadcasting."
   ],
   "metadata": {
    "collapsed": false
   },
   "id": "e709dc3dac672b59"
  },
  {
   "cell_type": "code",
   "outputs": [
    {
     "name": "stdout",
     "output_type": "stream",
     "text": [
      "[5 6 7 8 9]\n",
      "[11 12 13 14 15 16 17 18]\n",
      "[[15 17 12]\n",
      " [ 5  5  7]\n",
      " [16  5 16]]\n",
      "[[10  7  7]\n",
      " [13 12 16]\n",
      " [14 10  0]]\n",
      "[[25 24 19]\n",
      " [18 17 23]\n",
      " [30 15 16]]\n"
     ]
    }
   ],
   "source": [
    "integers_array = np.arange(0, 19, 1)\n",
    "subarray = integers_array[5:10]\n",
    "print(subarray)\n",
    "greater_than_10 = integers_array[integers_array > 10]\n",
    "print(greater_than_10) \n",
    "three_on_three = np.random.randint(20, size=(3,3))\n",
    "print(three_on_three)\n",
    "three_on_three_2 = np.random.randint(20, size=(3,3))\n",
    "print(three_on_three_2)\n",
    "print(np.broadcast_arrays(three_on_three, three_on_three_2))"
   ],
   "metadata": {
    "collapsed": false,
    "ExecuteTime": {
     "end_time": "2025-02-16T17:09:50.827020Z",
     "start_time": "2025-02-16T17:09:50.822007Z"
    }
   },
   "id": "2401cbf41b6ac413",
   "execution_count": 36
  },
  {
   "cell_type": "markdown",
   "source": [
    "**Task**: Generate random numbers and perform operations.\n",
    "\n",
    "- Generate a 1D array of 5 random numbers from a uniform distribution between 0 and 1.\n",
    "- Generate a 2D array of shape (3, 3) with random numbers from a standard normal distribution.\n",
    "- Generate a 1D array of 5 random integers between 10 and 20."
   ],
   "metadata": {
    "collapsed": false
   },
   "id": "92e7003be39b2743"
  },
  {
   "cell_type": "code",
   "outputs": [],
   "source": [
    "import numpy as np\n",
    "\n",
    "# Generate a 1D array of 5 random numbers from a uniform distribution between 0 and 1\n",
    "uniform_random_numbers = np.random.rand(5)\n",
    "print(\"Uniform random numbers:\", uniform_random_numbers)\n",
    "\n",
    "# Generate a 2D array of shape (3, 3) with random numbers from a standard normal distribution\n",
    "normal_random_numbers = np.random.randn(3, 3)\n",
    "print(\"Standard normal random numbers:\\n\", normal_random_numbers)\n",
    "\n",
    "# Generate a 1D array of 5 random integers between 10 and 20\n",
    "random_integers = np.random.randint(10, 21, size=5)\n",
    "print(\"Random integers between 10 and 20:\", random_integers)"
   ],
   "metadata": {
    "collapsed": false
   },
   "id": "bbf94a1d67c5cddd"
  },
  {
   "cell_type": "markdown",
   "source": [
    "Some PCA play-around"
   ],
   "metadata": {
    "collapsed": false
   },
   "id": "5839c5b145aafbcf"
  },
  {
   "cell_type": "code",
   "outputs": [],
   "source": [
    "python\n",
    "\n",
    "import numpy as np\n",
    "from sklearn.decomposition import PCA\n",
    "import matplotlib.pyplot as plt\n",
    "\n",
    "# Sample data\n",
    "X = np.array([[2.5, 2.4],\n",
    "              [0.5, 0.7],\n",
    "              [2.2, 2.9],\n",
    "              [1.9, 2.2],\n",
    "              [3.1, 3.0],\n",
    "              [2.3, 2.7],\n",
    "              [2, 1.6],\n",
    "              [1, 1.1],\n",
    "              [1.5, 1.6],\n",
    "              [1.1, 0.9]])\n",
    "\n",
    "# Apply PCA\n",
    "pca = PCA(n_components=1)\n",
    "X_pca = pca.fit_transform(X)\n",
    "\n",
    "# Plot original data and PCA result\n",
    "plt.scatter(X[:, 0], X[:, 1], label='Original Data')\n",
    "plt.scatter(X_pca, np.zeros_like(X_pca), label='PCA Result', color='red')\n",
    "plt.xlabel('X1')\n",
    "plt.ylabel('X2')\n",
    "plt.title('PCA Example')\n",
    "plt.legend()\n",
    "plt.show()"
   ],
   "metadata": {
    "collapsed": false
   },
   "id": "ecb5176c6b965a41"
  }
 ],
 "metadata": {
  "kernelspec": {
   "display_name": "Python 3",
   "language": "python",
   "name": "python3"
  },
  "language_info": {
   "codemirror_mode": {
    "name": "ipython",
    "version": 2
   },
   "file_extension": ".py",
   "mimetype": "text/x-python",
   "name": "python",
   "nbconvert_exporter": "python",
   "pygments_lexer": "ipython2",
   "version": "2.7.6"
  }
 },
 "nbformat": 4,
 "nbformat_minor": 5
}
