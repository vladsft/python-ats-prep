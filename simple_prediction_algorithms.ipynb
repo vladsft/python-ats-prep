{
 "cells": [
  {
   "cell_type": "markdown",
   "source": [
    "### Problem: Calculate the Simple Moving Average (SMA)\n",
    "\n",
    "A simple moving average (SMA) is a common technical indicator used in finance to smooth out price data by creating a constantly updated average price. It is calculated by taking the average of a specified number of recent data points.\n",
    "\n",
    "Task:\n",
    "\n",
    "Write a Python function that takes a list of historical stock prices and an integer representing the window size. The function should return a list of the simple moving averages for each window."
   ],
   "metadata": {
    "collapsed": false
   },
   "id": "b7c58b14f96f7634"
  },
  {
   "cell_type": "code",
   "execution_count": 15,
   "id": "initial_id",
   "metadata": {
    "collapsed": true,
    "ExecuteTime": {
     "end_time": "2025-02-15T21:31:47.630402Z",
     "start_time": "2025-02-15T21:31:47.624385Z"
    }
   },
   "outputs": [
    {
     "name": "stdout",
     "output_type": "stream",
     "text": [
      "[101.0, 102.67, 104.33, 107.33, 108.33, 108.33, 108.67, 111.0]\n"
     ]
    }
   ],
   "source": [
    "import math\n",
    "\n",
    "def simple_moving_average(prices, window_size):\n",
    "  if window_size <= 0 or window_size > len(prices):\n",
    "    return 0\n",
    "  \n",
    "  leng = len(prices)\n",
    "  avgs = []\n",
    "  for i in range(leng - window_size + 1):\n",
    "    assert prices[i] > 0.0, \"you can't have a negative stock price... unless maybe you are Disney lmao\"\n",
    "    avg = 0.0\n",
    "    for j in range(i, i + window_size):\n",
    "      avg += prices[j]\n",
    "    avg /= float(window_size)\n",
    "    avgs.append(round(avg, 2))\n",
    "  return avgs\n",
    "\n",
    "prices = [100, 102, 101, 105, 107, 110, 108, 107, 111, 115]\n",
    "window_size = 3\n",
    "print(simple_moving_average(prices, window_size))\n",
    "      "
   ]
  },
  {
   "cell_type": "markdown",
   "source": [
    "### Example Coding Question:\n",
    "\n",
    "**Problem: Implement a Function to Calculate the Exponential Moving Average (EMA)**\n",
    "\n",
    "The Exponential Moving Average (EMA) is a type of moving average that gives more weight to recent data points, making it more responsive to new information. The EMA is commonly used in financial analysis to smooth out price data and identify trends.\n",
    "\n",
    "**Task:**\n",
    "\n",
    "Write a Python function that takes a list of historical stock prices and an integer representing the window size. The function should return a list of the exponential moving averages for each day, starting from the first day where a full window is available.\n",
    "\n",
    "The EMA is calculated using the following formula:\n",
    "\n",
    "$$\n",
    "\\text{EMA}_t = \\alpha \\times \\text{Price}_t + (1 - \\alpha) \\times \\text{EMA}_{t-1}\n",
    "$$\n",
    "\n",
    "where $$\\alpha$$ (the smoothing factor) is calculated as:\n",
    "\n",
    "$$\n",
    "\\alpha = \\frac{2}{\\text{window size} + 1}\n",
    "$$"
   ],
   "metadata": {
    "collapsed": false
   },
   "id": "835e7dbe324be150"
  },
  {
   "cell_type": "code",
   "outputs": [
    {
     "name": "stdout",
     "output_type": "stream",
     "text": [
      "[100, 101.0, 101.0, 103.0, 105.0, 107.5, 107.75, 107.38, 109.19, 112.09]\n"
     ]
    }
   ],
   "source": [
    "def exponential_moving_average(prices, window_size):\n",
    "    if window_size <= 0 or window_size > len(prices):\n",
    "        return 0\n",
    "    \n",
    "    alpha = 2.0 / (float(window_size) + 1)\n",
    "    leng = len(prices)\n",
    "    assert prices[0] > 0.0, \"Negative stock value\"\n",
    "    emas = [prices[0]]\n",
    "    for i in range(1, leng):\n",
    "        assert prices[i] > 0.0, \"you can't have a negative stock price... unless maybe you are Disney lmao\"\n",
    "        emas.append(round (alpha * prices[i] + (1.0 - alpha) * emas[i-1], 2))\n",
    "    return emas\n",
    "\n",
    "prices = [100, 102, 101, 105, 107, 110, 108, 107, 111, 115]\n",
    "window_size = 3\n",
    "print(exponential_moving_average(prices, window_size))"
   ],
   "metadata": {
    "collapsed": false,
    "ExecuteTime": {
     "end_time": "2025-02-15T21:37:27.993564Z",
     "start_time": "2025-02-15T21:37:27.988546Z"
    }
   },
   "id": "5e0600b2ec3e9493",
   "execution_count": 19
  },
  {
   "cell_type": "markdown",
   "source": [
    "### Problem: Implement a Moving Average Crossover Strategy\n",
    "\n",
    "A moving average crossover strategy is a simple trading strategy that uses two moving averages, a short-term and a long-term, to generate buy and sell signals. The strategy is as follows:\n",
    "\n",
    "Buy Signal: When the short-term moving average crosses above the long-term moving average.\n",
    "Sell Signal: When the short-term moving average crosses below the long-term moving average.\n",
    "Task:\n",
    "\n",
    "Write a Python function that takes a list of historical stock prices and two integers representing the short-term and long-term window sizes. The function should return a list of tuples, each containing a day index and a signal (\"Buy\" or \"Sell\")."
   ],
   "metadata": {
    "collapsed": false
   },
   "id": "77e5e37a6aa4583a"
  },
  {
   "cell_type": "code",
   "outputs": [
    {
     "name": "stdout",
     "output_type": "stream",
     "text": [
      "[(0, 'Sell'), (1, 'Sell'), (2, 'Sell'), (3, 'Hodl'), (4, 'Buy'), (5, 'Buy'), (6, 'Buy'), (7, 'Buy'), (8, 'Hodl'), (9, 'Sell'), (10, 'Sell')]\n"
     ]
    }
   ],
   "source": [
    "import math\n",
    "\n",
    "def moving_average_crossover(prices, short_window_size, long_window_size):\n",
    "    if short_window_size <= 0 or short_window_size > len(prices):\n",
    "        return 0\n",
    "    if long_window_size <= 0 or long_window_size > len(prices):\n",
    "        return 0\n",
    "\n",
    "    leng = len(prices)\n",
    "    signals = []\n",
    "    for i in range(leng - long_window_size + 1):\n",
    "        assert prices[i] > 0.0, \"you can't have a negative stock price... unless maybe you are Disney lmao\"\n",
    "        short_avg = 0.0\n",
    "        long_avg = 0.0\n",
    "        for j in range(i, i + short_window_size):\n",
    "            short_avg += prices[j]\n",
    "        for j in range(i, i + long_window_size):\n",
    "            long_avg += prices[j]\n",
    "        short_avg /= float(short_window_size)\n",
    "        long_avg /= float(long_window_size)\n",
    "        if math.isclose(short_avg, long_avg, abs_tol=0.1):\n",
    "            signals.append((i, \"Hodl\"))\n",
    "        else:\n",
    "            if short_avg > long_avg:\n",
    "                signals.append((i, \"Buy\"))\n",
    "            if short_avg < long_avg:\n",
    "                signals.append((i, \"Sell\"))\n",
    "    return signals\n",
    "\n",
    "prices = [100.0, 100.5, 101.0, 101.5, 102.0, 102.5, 102.0, 101.5, 101.0, 100.5, 100.0, 100.5, 101.0, 101.5, 102.0]\n",
    "short_window_size = 3\n",
    "long_window_size = 5\n",
    "print(moving_average_crossover(prices, short_window_size, long_window_size))"
   ],
   "metadata": {
    "collapsed": false,
    "ExecuteTime": {
     "end_time": "2025-02-15T21:59:48.792708Z",
     "start_time": "2025-02-15T21:59:48.786187Z"
    }
   },
   "id": "bf513668d86936ad",
   "execution_count": 29
  },
  {
   "cell_type": "markdown",
   "source": [
    "### Problem: Implement a Stock Price Prediction Using Linear Regression\n",
    "\n",
    "Task:\n",
    "\n",
    "Write a Python function that takes a list of historical stock prices and predicts the next day's price using a simple linear regression model. The function should return the predicted price.\n",
    "\n",
    "Requirements:\n",
    "\n",
    "Implement a simple linear regression from scratch without using any external libraries for linear regression.\n",
    "Use the historical prices to fit the model and predict the next day's price.\n",
    "Handle edge cases where there are not enough data points to make a prediction."
   ],
   "metadata": {
    "collapsed": false
   },
   "id": "d4447adc06ac327"
  },
  {
   "cell_type": "code",
   "outputs": [
    {
     "name": "stdout",
     "output_type": "stream",
     "text": [
      "avg_idx  [0. 1. 2. 3. 4. 5. 6. 7. 8. 9.]\n",
      "avg_idx:  4.5\n",
      "avg prices:  106.6\n",
      "above  29.699999999999974  at index  0\n",
      "below  20.25  at index  0\n",
      "above  16.09999999999998  at index  1\n",
      "below  12.25  at index  1\n",
      "above  13.999999999999986  at index  2\n",
      "below  6.25  at index  2\n",
      "above  2.3999999999999915  at index  3\n",
      "below  2.25  at index  3\n",
      "above  -0.20000000000000284  at index  4\n",
      "below  0.25  at index  4\n",
      "above  1.7000000000000028  at index  5\n",
      "below  0.25  at index  5\n",
      "above  2.1000000000000085  at index  6\n",
      "below  2.25  at index  6\n",
      "above  1.0000000000000142  at index  7\n",
      "below  6.25  at index  7\n",
      "above  15.40000000000002  at index  8\n",
      "below  12.25  at index  8\n",
      "above  37.800000000000026  at index  9\n",
      "below  20.25  at index  9\n",
      "numerator  120.0 , below  82.5\n",
      "slope  1.4545454545454546 , intercept 100.05454545454545\n",
      "Predicted next price: 114.6\n"
     ]
    }
   ],
   "source": [
    "import numpy as np\n",
    "\n",
    "def linear_regression_model(prices):\n",
    "  leng = len(prices)\n",
    "  idx_list = np.array(range(leng), dtype=float)\n",
    "  print(\"avg_idx \", idx_list)\n",
    "  avg_idx = np.mean(idx_list)\n",
    "  print(\"avg_idx: \", avg_idx)\n",
    "  avg_prices = np.mean(np.array(prices, dtype=float))\n",
    "  print(\"avg prices: \", avg_prices)\n",
    "  above = 0.0\n",
    "  below = 0.0\n",
    "  for i in range(leng):\n",
    "    above += (i - avg_idx) * (prices[i] - avg_prices)\n",
    "    print(\"above \", (i - avg_idx) * (prices[i] - avg_prices), \" at index \", i)\n",
    "    below += (i - avg_idx) * (i - avg_idx)\n",
    "    print(\"below \", (i - avg_idx) * (i - avg_idx), \" at index \", i)  \n",
    "  m = above/below\n",
    "  print(\"numerator \", above, \", below \", below)\n",
    "  b = avg_prices - m * avg_idx\n",
    "  print(\"slope \", m, \", intercept\", b)\n",
    "  return m * leng + b, m, b\n",
    "\n",
    "prices = [100, 102, 101, 105, 107, 110, 108, 107, 111, 115]\n",
    "predicted_price, m, b = linear_regression_model(prices)\n",
    "print(\"Predicted next price:\", predicted_price)\n",
    "  "
   ],
   "metadata": {
    "collapsed": false,
    "ExecuteTime": {
     "end_time": "2025-02-15T22:57:18.949578Z",
     "start_time": "2025-02-15T22:57:18.942559Z"
    }
   },
   "id": "e0923aac41d1b355",
   "execution_count": 13
  },
  {
   "cell_type": "markdown",
   "source": [],
   "metadata": {
    "collapsed": false
   },
   "id": "175fea5cf4dd7a71"
  },
  {
   "cell_type": "code",
   "outputs": [
    {
     "data": {
      "text/plain": "<Figure size 1000x600 with 1 Axes>",
      "image/png": "[encoded data removed]"
     },
     "metadata": {},
     "output_type": "display_data"
    }
   ],
   "source": [
    "# Plotting for the problem above\n",
    "import matplotlib.pyplot as plt\n",
    "\n",
    "plt.figure(figsize=(10, 6))\n",
    "plt.scatter(range(len(prices)), prices, color='blue', label='DataPoints')\n",
    "plt.plot(range(len(prices)), [m * x + b for x in range (0, len(prices))], color='red', label='Regression Line')\n",
    "plt.xlabel('Day Index')\n",
    "plt.ylabel('Price')\n",
    "plt.title('Linear Regression of Stock Prices')\n",
    "plt.legend()\n",
    "plt.grid(True)\n",
    "plt.show()"
   ],
   "metadata": {
    "collapsed": false,
    "ExecuteTime": {
     "end_time": "2025-02-15T23:00:00.073008Z",
     "start_time": "2025-02-15T22:59:59.917593Z"
    }
   },
   "id": "d5a89642a6177445",
   "execution_count": 15
  },
  {
   "cell_type": "code",
   "outputs": [],
   "source": [],
   "metadata": {
    "collapsed": false
   },
   "id": "f938420d681bbe4f"
  }
 ],
 "metadata": {
  "kernelspec": {
   "display_name": "Python 3",
   "language": "python",
   "name": "python3"
  },
  "language_info": {
   "codemirror_mode": {
    "name": "ipython",
    "version": 2
   },
   "file_extension": ".py",
   "mimetype": "text/x-python",
   "name": "python",
   "nbconvert_exporter": "python",
   "pygments_lexer": "ipython2",
   "version": "2.7.6"
  }
 },
 "nbformat": 4,
 "nbformat_minor": 5
}
