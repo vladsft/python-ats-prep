{
 "cells": [
  {
   "cell_type": "markdown",
   "source": [
    "Implement a minheap by hand. A minheap is a binary tree where:\n",
    "\n",
    "- The parent node is always smaller than its children\n",
    "- The smallest is always at the root\n",
    "- It is implemented using an array list for efficiency"
   ],
   "metadata": {
    "collapsed": false
   },
   "id": "c9f87fb742ccaeea"
  },
  {
   "cell_type": "code",
   "execution_count": null,
   "id": "initial_id",
   "metadata": {
    "collapsed": true
   },
   "outputs": [],
   "source": [
    "class MinHeap():\n",
    "  def __init__(self):\n",
    "    self.heap = []\n",
    "  \n",
    "  def parent(self, i):\n",
    "    return (i - 1) // 2 if i > 0 else None\n",
    "  \n",
    "  def left_child(self, i):\n",
    "    return 2 * i + 1\n",
    "  \n",
    "  def right_child(self, i):\n",
    "    return 2 * i + 2\n",
    "  \n",
    "  def insert(self, value):\n",
    "    self.heap.append(value)\n",
    "    self._heapify_up(len(self.heap) - 1)\n",
    "    \n",
    "  def _heapify_up(self, index):\n",
    "    parent_idx = self.parent(index)\n",
    "    if parent_idx is not None and self.heap[parent_idx] > self.heap[index]\n",
    "      self.heap[parent_idx], self.heap[index] = self.heap[index], self.heap[parent_idx]\n",
    "      self._heapify_up(parent_idx)\n",
    "  \n",
    "  def extract_min(self):\n",
    "    if len(self.heap) == 0:\n",
    "      raise IndexError(\"Heap is empty\")\n",
    "    if len(self.heap) == 1:\n",
    "      return self.heap.pop()\n",
    "    \n",
    "    min_value = self.heap[0]\n",
    "    self.heap[0] = self.heap.pop()\n",
    "    self._heapify_down(0)\n",
    "    return min_value\n",
    "  \n",
    "  def _heapify_down(self, index):\n",
    "    left = self.left_child(index)\n",
    "    right = self.right_child(index)\n",
    "    smallest = index\n",
    "    \n",
    "    if left < len(self.heap) and self.heap[left] < self.heap[smallest]:\n",
    "      smallest = left\n",
    "    if right < len(self.heap) and self.heap[right] < self.heap[smallest]:\n",
    "      smallest = right\n",
    "    \n",
    "    if smallest != index:\n",
    "      self.heap[index], self.heap[smallest] = self.heap[smallest], self.heap[index]\n",
    "      self._heapify_down(smallest)\n",
    "      \n",
    "# peek size, display common it's easy"
   ]
  },
  {
   "cell_type": "markdown",
   "source": [
    "Create a graph with adjacency list"
   ],
   "metadata": {
    "collapsed": false
   },
   "id": "ab223e402ee568aa"
  },
  {
   "cell_type": "code",
   "outputs": [],
   "source": [
    "class Graph:\n",
    "  \n",
    "  def __init__(self):\n",
    "    self.adj_list = {}\n",
    "  \n",
    "  def add_to_list(self, from_vertex, to_vertex):\n",
    "    if from_vertex not in self.adj_list.keys:\n",
    "      self.adj_list[from_vertex] = []\n",
    "    if to_vertex not in self.adj_list.keys:\n",
    "      self.adj_list[to_vertex] = []\n",
    "      \n",
    "    self.adj_list[from_vertex].append(to_vertex)\n",
    "    self.adj_list[to_vertex].append(from_vertex)\n",
    "    \n",
    "  def remove_edge(self, from_vertex, to_vertex):\n",
    "    self.adj_list[from_vertex].remove(to_vertex)\n",
    "    self.adj_list[from_vertex].remove(to_vertex)\n",
    "  \n",
    "  def bfs(self, start_vertex):\n",
    "    # remember the set of visited nodes\n",
    "    visited = set()\n",
    "    queue = [start_vertex]\n",
    "    visited.add(start_vertex)\n",
    "    while queue:\n",
    "      vertex = queue.pop(0)\n",
    "      print(vertex, end=\" \")\n",
    "      for neighbor in self.adj_list[vertex]:\n",
    "        if neighbor not in visited:\n",
    "          visited.add(neighbor)\n",
    "          queue.append(neighbor)\n",
    "          \n",
    "    def dfs(self, start_vertex):\n",
    "      if visited is None:\n",
    "        visited = set()\n",
    "      visited.add(start_vertex)\n",
    "      print(start_vertex)\n",
    "      for neighbor in self.adj_list[start_vertex]:\n",
    "        if neighbor not in visited:\n",
    "          dfs(neighbor)\n",
    "          \n",
    "        \n",
    "        \n",
    "      "
   ],
   "metadata": {
    "collapsed": false
   },
   "id": "ca2e8c296ffe2907"
  }
 ],
 "metadata": {
  "kernelspec": {
   "display_name": "Python 3",
   "language": "python",
   "name": "python3"
  },
  "language_info": {
   "codemirror_mode": {
    "name": "ipython",
    "version": 2
   },
   "file_extension": ".py",
   "mimetype": "text/x-python",
   "name": "python",
   "nbconvert_exporter": "python",
   "pygments_lexer": "ipython2",
   "version": "2.7.6"
  }
 },
 "nbformat": 4,
 "nbformat_minor": 5
}
